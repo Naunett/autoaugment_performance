{
 "cells": [
  {
   "cell_type": "markdown",
   "metadata": {},
   "source": [
    "This notebook runs scripts that implement transfer learning and random search. "
   ]
  },
  {
   "cell_type": "code",
   "execution_count": 55,
   "metadata": {
    "collapsed": false
   },
   "outputs": [
    {
     "name": "stdout",
     "output_type": "stream",
     "text": [
      "Populating the interactive namespace from numpy and matplotlib\n"
     ]
    }
   ],
   "source": [
    "import pandas as pd\n",
    "% pylab inline"
   ]
  },
  {
   "cell_type": "markdown",
   "metadata": {},
   "source": [
    "## Transfer Learning Results\n",
    "\n",
    "**my-best-single-model-simple-cnn-lb-0-1541.py** is a Kernel from Kaggle modified to apply the AutoAugment Policies to the Iceberg Classification Challenge. We apply the CIFAR-10 and SVHN policies and show that both policies improve over the baseline kernel.  "
   ]
  },
  {
   "cell_type": "code",
   "execution_count": null,
   "metadata": {
    "collapsed": false
   },
   "outputs": [],
   "source": [
    "# The results are written to final_ensemble.csv\n",
    "! cd ../transfer_learning/iceberg; python my-best-single-model-simple-cnn-lb-0-1541.py"
   ]
  },
  {
   "cell_type": "code",
   "execution_count": 9,
   "metadata": {
    "collapsed": true
   },
   "outputs": [],
   "source": [
    "iceberg_results = pd.read_csv('../transfer_learning/iceberg/final_ensemble.csv')"
   ]
  },
  {
   "cell_type": "code",
   "execution_count": 11,
   "metadata": {
    "collapsed": false
   },
   "outputs": [
    {
     "data": {
      "text/plain": [
       "(8424, 2)"
      ]
     },
     "execution_count": 11,
     "metadata": {},
     "output_type": "execute_result"
    }
   ],
   "source": [
    "iceberg_results.shape"
   ]
  },
  {
   "cell_type": "code",
   "execution_count": 10,
   "metadata": {
    "collapsed": false
   },
   "outputs": [
    {
     "data": {
      "text/html": [
       "<div>\n",
       "<table border=\"1\" class=\"dataframe\">\n",
       "  <thead>\n",
       "    <tr style=\"text-align: right;\">\n",
       "      <th></th>\n",
       "      <th>id</th>\n",
       "      <th>is_iceberg</th>\n",
       "    </tr>\n",
       "  </thead>\n",
       "  <tbody>\n",
       "    <tr>\n",
       "      <th>0</th>\n",
       "      <td>5941774d</td>\n",
       "      <td>0.068249</td>\n",
       "    </tr>\n",
       "    <tr>\n",
       "      <th>1</th>\n",
       "      <td>4023181e</td>\n",
       "      <td>0.532265</td>\n",
       "    </tr>\n",
       "    <tr>\n",
       "      <th>2</th>\n",
       "      <td>b20200e4</td>\n",
       "      <td>0.000221</td>\n",
       "    </tr>\n",
       "    <tr>\n",
       "      <th>3</th>\n",
       "      <td>e7f018bb</td>\n",
       "      <td>0.996528</td>\n",
       "    </tr>\n",
       "    <tr>\n",
       "      <th>4</th>\n",
       "      <td>4371c8c3</td>\n",
       "      <td>0.026611</td>\n",
       "    </tr>\n",
       "  </tbody>\n",
       "</table>\n",
       "</div>"
      ],
      "text/plain": [
       "         id  is_iceberg\n",
       "0  5941774d    0.068249\n",
       "1  4023181e    0.532265\n",
       "2  b20200e4    0.000221\n",
       "3  e7f018bb    0.996528\n",
       "4  4371c8c3    0.026611"
      ]
     },
     "execution_count": 10,
     "metadata": {},
     "output_type": "execute_result"
    }
   ],
   "source": [
    "iceberg_results.head()"
   ]
  },
  {
   "cell_type": "markdown",
   "metadata": {},
   "source": [
    "The final_ensemble.csv contains probabilties for each image in the test set. 'id' is the ID of each image and 'is_iceberg' is the probabilty of that image being an iceberg. Submitting this file with predictions to Kaggle returns the log loss which is being reported here. \n",
    "\n",
    "The chart below shows the comparison between the baseline model (with no augmentation), model with CIFAR-10 augmentations and model with SVHN augmentations. "
   ]
  },
  {
   "cell_type": "code",
   "execution_count": 62,
   "metadata": {
    "collapsed": false
   },
   "outputs": [
    {
     "data": {
      "image/png": "[encoded data removed]",
      "text/plain": [
       "<matplotlib.figure.Figure at 0x11c0a1c10>"
      ]
     },
     "metadata": {},
     "output_type": "display_data"
    }
   ],
   "source": [
    "from itertools import cycle, islice\n",
    "import seaborn \n",
    "results_df = pd.DataFrame({'model':['Baseline', 'CIFAR-10', 'SVHN'], \\\n",
    "                           'log_loss':[0.1446,0.1409, 0.1376]})\n",
    "\n",
    "my_colors = list(islice(cycle(['darkblue', 'orange', 'olive']), None, len(results_df)))\n",
    "results_df.plot.bar(x='model', y='log_loss', rot=0,\\\n",
    "                    color=my_colors, legend=None)\n",
    "\n",
    "plt.title('Transfer Learning Results on Iceberg Classifier Kaggle Dataset', size = 20)\n",
    "plt.ylabel('Log Loss', size = 15)\n",
    "plt.xlabel('Augmentation', size = 15)\n",
    "plt.ylim(0.13 , 0.15)\n",
    "plt.gcf().set_size_inches(15,7)"
   ]
  },
  {
   "cell_type": "markdown",
   "metadata": {},
   "source": [
    "--- \n",
    "\n",
    "## Simplified AutoAugment Results\n",
    "\n",
    "This strategy was inspired by random grid search for hyperparameter tuning, and it is much simpler than LSTM Controller. \n",
    "\n",
    "The ”Random Search Controller” was run for 250 epochs and kept track of the best policies it found for CIFAR-10. The policy that produced the best results was as follows:\n",
    "\n",
    "- Sub-Policy 0 = (Brightness, 0.1, 1.9), (ShearX, 0.0, - 0.3)\n",
    "- Sub-Policy 1 = (Invert, 0.7, 0.111), (Contrast, 0.5, 1.5)\n",
    "- Sub-Policy 2 = (Invert, 0.3, 0.667), (Color, 0.5, 1.7)]\n",
    "- Sub-Policy 4 = (Rotate, 1.0, 0.778), (ShearY, 0.3, - 0.45)\n",
    "- Sub-Policy 5 = (Brightness, 0.1, 1.5), (Invert, 0.9, 0.889)"
   ]
  },
  {
   "cell_type": "code",
   "execution_count": null,
   "metadata": {
    "collapsed": true
   },
   "outputs": [],
   "source": [
    "# The results are written to log.txt\n",
    "! cd ../autoaugment_performance/random_search/run.py"
   ]
  },
  {
   "cell_type": "code",
   "execution_count": null,
   "metadata": {
    "collapsed": true
   },
   "outputs": [],
   "source": [
    "# ! Print the results file\n",
    "#"
   ]
  },
  {
   "cell_type": "code",
   "execution_count": null,
   "metadata": {
    "collapsed": true
   },
   "outputs": [],
   "source": [
    "# baseline_err = 0.0387 WideResNet40\n",
    "# vikrams_err = 0.034\n",
    "# autoaugment_err = 0.0268"
   ]
  }
 ],
 "metadata": {
  "kernelspec": {
   "display_name": "Python 2",
   "language": "python",
   "name": "python2"
  },
  "language_info": {
   "codemirror_mode": {
    "name": "ipython",
    "version": 2
   },
   "file_extension": ".py",
   "mimetype": "text/x-python",
   "name": "python",
   "nbconvert_exporter": "python",
   "pygments_lexer": "ipython2",
   "version": "2.7.13"
  }
 },
 "nbformat": 4,
 "nbformat_minor": 2
}
